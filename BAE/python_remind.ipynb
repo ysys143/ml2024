{
 "cells": [
  {
   "cell_type": "code",
   "execution_count": 11,
   "metadata": {},
   "outputs": [
    {
     "name": "stdout",
     "output_type": "stream",
     "text": [
      "1 5 5.5 0.5\n",
      "15 5 50 2.0\n",
      "1000 3 1\n",
      "pythonprogramming\n",
      "pythonpython\n"
     ]
    },
    {
     "data": {
      "text/plain": [
       "True"
      ]
     },
     "execution_count": 11,
     "metadata": {},
     "output_type": "execute_result"
    }
   ],
   "source": [
    "#data type\n",
    "a=1\n",
    "b=5\n",
    "c=5.5\n",
    "d=0.5\n",
    "print(a,b,c,d)\n",
    "\n",
    "a=10\n",
    "b=5\n",
    "c=3\n",
    "print(a+b, a-b, a*b, a/b)\n",
    "print(a**c, a//c, a%c)\n",
    "\n",
    "str1=\"python\"\n",
    "str2 = \"programming\"\n",
    "print(str1+str2)\n",
    "print(str1*2)"
   ]
  },
  {
   "cell_type": "code",
   "execution_count": 13,
   "metadata": {},
   "outputs": [
    {
     "name": "stdout",
     "output_type": "stream",
     "text": [
      "True\n",
      "True\n",
      "False\n",
      "True\n",
      "False\n",
      "False\n",
      "True\n",
      "True\n"
     ]
    }
   ],
   "source": [
    "print(3>2)\n",
    "print(2>=2)\n",
    "print(3<=1)\n",
    "print(1==1)\n",
    "print(1!=1)\n",
    "\n",
    "print(True and (1==0))\n",
    "print(True or False)\n",
    "print(not(1==0))"
   ]
  },
  {
   "cell_type": "code",
   "execution_count": 10,
   "metadata": {},
   "outputs": [
    {
     "name": "stdout",
     "output_type": "stream",
     "text": [
      "p y g\n",
      "pyth\n",
      "오늘은 13일 입니다.\n",
      "오늘은 수요일입니다.\n",
      "지금 온도는 32.700000도입니다.\n",
      "지금 온도는 32.70도입니다.\n",
      "파이썬\n",
      "프로그래밍\n",
      "파이썬\n",
      "프로그래밍\n",
      "2\n",
      "p/y/t/h/o/n/ /p/r/o/g/r/a/m/m/i/n/g\n",
      "13\n",
      "PYTHON PROGRAMMING\n",
      "python programming\n",
      "java programming\n",
      "['python', 'programming']\n"
     ]
    }
   ],
   "source": [
    "#indexing\n",
    "str=\"python programming\"\n",
    "print(str[0],str[1],str[-1])\n",
    "print(str[0:4])\n",
    "\n",
    "#formatting\n",
    "print(\"오늘은 %d일 입니다.\" %13)\n",
    "print(\"오늘은 %s입니다.\" %\"수요일\")\n",
    "print(\"지금 온도는 %f도입니다.\" %32.7)\n",
    "print(\"지금 온도는 %0.2f도입니다.\" %32.7) #소수점 두자리까지\n",
    "\n",
    "#여러줄인 문자열\n",
    "print(\"파이썬\\n프로그래밍\")\n",
    "print(\"\"\"파이썬\n",
    "프로그래밍\"\"\")\n",
    "\n",
    "#문자열 자료형의 내장함수(메소드)\n",
    "str=\"python programming\"\n",
    "print(str.count('p'))\n",
    "print(\"/\".join(str))\n",
    "print(str.find('m'))\n",
    "print(str.upper())\n",
    "print(str.upper().lower())\n",
    "print(str.replace('python','java'))\n",
    "print(str.split())\n"
   ]
  },
  {
   "cell_type": "code",
   "execution_count": 16,
   "metadata": {},
   "outputs": [
    {
     "name": "stdout",
     "output_type": "stream",
     "text": [
      "3는 양의 정수입니다.\n"
     ]
    }
   ],
   "source": [
    "#조건문\n",
    "\n",
    "a=int(input())\n",
    "if(a>0):\n",
    "    print('%d는 양의 정수입니다.' %a)\n",
    "elif(a==0):\n",
    "    print(\"%d는 0입니다\" %a)\n",
    "else:\n",
    "    print('%d는 음의 정수입니다.' %a)\n"
   ]
  },
  {
   "cell_type": "code",
   "execution_count": 22,
   "metadata": {},
   "outputs": [
    {
     "name": "stdout",
     "output_type": "stream",
     "text": [
      "python programming\n",
      "python programming\n",
      "python programming\n",
      "python programming\n",
      "python programming\n",
      "i의 값: 1, 합계: 1\n",
      "i의 값: 2, 합계: 3\n",
      "i의 값: 3, 합계: 6\n",
      "i의 값: 4, 합계: 10\n",
      "i의 값: 5, 합계: 15\n",
      "1 3 5 7 9 p\n",
      "y\n",
      "t\n",
      "h\n",
      "o\n",
      "n\n",
      "2*1=2 2*2=4 2*3=6 2*4=8 2*5=10 2*6=12 2*7=14 2*8=16 2*9=18 \n",
      "3*1=3 3*2=6 3*3=9 3*4=12 3*5=15 3*6=18 3*7=21 3*8=24 3*9=27 \n",
      "4*1=4 4*2=8 4*3=12 4*4=16 4*5=20 4*6=24 4*7=28 4*8=32 4*9=36 \n",
      "5*1=5 5*2=10 5*3=15 5*4=20 5*5=25 5*6=30 5*7=35 5*8=40 5*9=45 \n",
      "6*1=6 6*2=12 6*3=18 6*4=24 6*5=30 6*6=36 6*7=42 6*8=48 6*9=54 \n",
      "7*1=7 7*2=14 7*3=21 7*4=28 7*5=35 7*6=42 7*7=49 7*8=56 7*9=63 \n",
      "8*1=8 8*2=16 8*3=24 8*4=32 8*5=40 8*6=48 8*7=56 8*8=64 8*9=72 \n",
      "9*1=9 9*2=18 9*3=27 9*4=36 9*5=45 9*6=54 9*7=63 9*8=72 9*9=81 \n",
      "python programming\n",
      "python programming\n",
      "python programming\n",
      "python programming\n",
      "p y t h o n   p r o g r a m m i n g "
     ]
    }
   ],
   "source": [
    "#for문\n",
    "\n",
    "for i in range(5):\n",
    "    print(\"python programming\")\n",
    "\n",
    "sum =0\n",
    "for i in range(1,6):\n",
    "    sum+=i\n",
    "    print(\"i의 값: %d, 합계: %d\" %(i, sum))\n",
    "\n",
    "for i in range(1,10,2):\n",
    "    print(i, end=' ') #end=' '는 결과값을 하나의 줄에서 공백으로 구분하여 출력하라는 의미\n",
    "\n",
    "for x in 'python':\n",
    "    print(x)\n",
    "\n",
    "for i in range(2,10):\n",
    "    for j in range(1,10):\n",
    "        print(\"%d*%d=%d\" %(i,j,i*j), end=' ')\n",
    "    print()\n",
    "\n",
    "\n",
    "#while문\n",
    "i=1\n",
    "while i<5:\n",
    "    print('python programming')\n",
    "    i+=1\n",
    "\n",
    "i=0\n",
    "s='python programming'\n",
    "while i <= (len(s)-1):\n",
    "    print(s[i], end=' ')\n",
    "    i=i+1"
   ]
  },
  {
   "cell_type": "code",
   "execution_count": 26,
   "metadata": {},
   "outputs": [
    {
     "name": "stdout",
     "output_type": "stream",
     "text": [
      "[1, 2, 3, 4, 5]\n",
      "1 5 4\n",
      "[1, 2, 3, 4, 5, 6]\n",
      "[1, 2, 3, 1, 2, 3, 1, 2, 3]\n",
      "[1, 2, 3, 'd']\n",
      "[1, 'aa', 2, 3, 'd']\n",
      "[1, 'aa', 'f', 3, 'd']\n",
      "[1, 'f', 3, 'd']\n",
      "['e', 'd', 'c', 'b', 'a']\n",
      "3\n",
      "['a', 'b', 'c', 'd', 'e']\n",
      "1\n",
      "2\n",
      "[10, 20, 40, 30, 20, 50]\n",
      "a b c 75\n",
      "100\n"
     ]
    }
   ],
   "source": [
    "#list\n",
    "\n",
    "#리스트\n",
    "a=[]\n",
    "b=[1,2,3]\n",
    "c=['사과','오렌지','딸기','포도','바나나']\n",
    "d=[1,2,'python','programming']\n",
    "\n",
    "#인덱싱\n",
    "a=[1,2,3,4,5]\n",
    "print(a)\n",
    "print(a[0],a[-1],a[0]+a[2])\n",
    "\n",
    "a=[1,2,3]\n",
    "b=[4,5,6]\n",
    "print(a+b)\n",
    "print(a*3)\n",
    "\n",
    "#원소 추가\n",
    "a=[1,2,3]\n",
    "a.append('d')\n",
    "print(a)\n",
    "\n",
    "a.insert(1,'aa') #특정 위치에 추가\n",
    "print(a)\n",
    "\n",
    "#수정과 삭제\n",
    "a[2]='f'\n",
    "print(a)\n",
    "\n",
    "del a[1]\n",
    "print(a)\n",
    "\n",
    "#기타 리스트 메서드\n",
    "a=['a','b','c','d','e']\n",
    "a.reverse()\n",
    "print(a)\n",
    "print(a.index('b'))\n",
    "a.sort()\n",
    "print(a)\n",
    "print(a.index('b'))\n",
    "\n",
    "a=[10,20,30,40,30,20,50]\n",
    "print(a.count(30))\n",
    "a.remove(30) #첫번째 30을 제거\n",
    "print(a)\n",
    "\n",
    "a=['a','b','c']\n",
    "for x in a:\n",
    "    print(x, end=' ')\n",
    "\n",
    "#2차원 리스트\n",
    "scores=[[70,75],[80,90],[100,90],[95,85],[82,92]]\n",
    "print(scores[0][1])\n",
    "print(scores[2][0])"
   ]
  },
  {
   "cell_type": "code",
   "execution_count": 28,
   "metadata": {},
   "outputs": [
    {
     "name": "stdout",
     "output_type": "stream",
     "text": [
      "a\n",
      "('c', 'd', 'e')\n",
      "('a', 'b', 'c', 'd', 'e', 'a', 'b', 'c', 'd', 'e')\n",
      "5\n",
      "a\n",
      "python\n",
      "{'name': 'python', 'age': '30', 'job': 'programming', 'contact': 'python.org'}\n",
      "dict_keys(['name', 'age', 'job', 'contact'])\n",
      "dict_values(['python', '30', 'programming', 'python.org'])\n",
      "dict_items([(1, 'a'), (2, 'b'), (3, 'c')])\n"
     ]
    }
   ],
   "source": [
    "#tuple\n",
    "#list와 유사하지만 값 변경이 불가능한 구조\n",
    "t1=()\n",
    "t2=(1,2,3)\n",
    "t3=('a','b',('ab','bc'))\n",
    "\n",
    "t=('a','b','c','d','e')\n",
    "print(t[0])\n",
    "print(t[2:])\n",
    "print(t*2)\n",
    "print(len(t))\n",
    "\n",
    "#dictionary\n",
    "#key와 value로 구성된 구조\n",
    "dic1={1:'a',2:'b',3:'c'}\n",
    "dic2={'name':'python','age':'30','job':'programming'}\n",
    "print(dic1[1])\n",
    "print(dic2['name'])\n",
    "\n",
    "dic2['contact']='python.org' #원소추가\n",
    "print(dic2)\n",
    "\n",
    "print(dic2.keys()) #key만을 모아서 dict_keys 객체로 반환\n",
    "print(dic2.values()) #value만을 모아서 dict_values 객체로 반환\n",
    "print(dic1.items()) #key와 value를 모아 dict_values 튜플객체로 반환\n",
    "\n",
    "print(dic1[1])\n",
    "print(dic1.get(1))\n",
    "print(3 in dic1)\n"
   ]
  },
  {
   "cell_type": "code",
   "execution_count": 32,
   "metadata": {},
   "outputs": [
    {
     "name": "stdout",
     "output_type": "stream",
     "text": [
      "아이디와 비밀번호가 맞습니다\n"
     ]
    }
   ],
   "source": [
    "id_pass = {'cuk':'12ab','python':'11aa','bigdata':'cc21'}\n",
    "\n",
    "id = input('사용자 아이디를 입력하세요 : ')\n",
    "password = input('비밀번호를 입력하세요 : ')\n",
    "\n",
    "if id in id_pass:\n",
    "    if password == id_pass.get(id):\n",
    "        print('아이디와 비밀번호가 맞습니다')\n",
    "    else:\n",
    "        print('비밀번호가 틀립니다')\n",
    "else:\n",
    "    print('아이디가 존재하지 않습니다')"
   ]
  },
  {
   "cell_type": "code",
   "execution_count": 33,
   "metadata": {},
   "outputs": [
    {
     "name": "stdout",
     "output_type": "stream",
     "text": [
      "3는 홀수입니다\n"
     ]
    }
   ],
   "source": [
    "#function\n",
    "def sum(x,y):\n",
    "    return x+y\n",
    "\n",
    "def odd_even(x):\n",
    "    if x%2==0:\n",
    "        return('짝수')\n",
    "    else:\n",
    "        return('홀수')\n",
    "    \n",
    "x=int(input('숫자를 입력하세요'))\n",
    "print(\"%d는 %s입니다\" %(x,odd_even(x)))"
   ]
  },
  {
   "cell_type": "markdown",
   "metadata": {},
   "source": [
    "#설치된 패키지를 알아보는 명령어\n",
    "!pip list\n",
    "\n",
    "#자주 사용되는 라이브러리\n",
    "numpy - 행렬이나 다차원 배열을 쉽게 처리할 수 있도록 지원\n",
    "scipy -통계 패키지\n",
    "pandas -데이터 프레임\n",
    "scikit-learn - 머신러닝\n",
    "tenserflow - 딥러닝\n",
    "keras -딥러닝\n",
    "pytorch - 딥러닝\n",
    "matplotlib - 시각화\n",
    "seaborn - 시각화"
   ]
  }
 ],
 "metadata": {
  "kernelspec": {
   "display_name": "Python 3",
   "language": "python",
   "name": "python3"
  },
  "language_info": {
   "codemirror_mode": {
    "name": "ipython",
    "version": 3
   },
   "file_extension": ".py",
   "mimetype": "text/x-python",
   "name": "python",
   "nbconvert_exporter": "python",
   "pygments_lexer": "ipython3",
   "version": "3.12.4"
  }
 },
 "nbformat": 4,
 "nbformat_minor": 2
}
