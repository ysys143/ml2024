{
 "cells": [
  {
   "cell_type": "markdown",
   "metadata": {},
   "source": [
    "#Numpy\n",
    "리스트와 유사하지만 배열이 크기가 커져도 높은 성능을 보장하며, 다양한 수학 관련 함수 내장.\n",
    "리스트와 달리, 동일한 자료형만 담을 수 있음.\n",
    "\n",
    "#ndarray 객체 생성\n",
    "array(): 리스트, 튜플 등 데이터를 이용해 ndarray 객체생성\n",
    "random.randn(): 정규분포 난수생성\n",
    "zeros(): 객체 생성 후 0으로 초기화\n",
    "ones(): 객체 생성 후 1로 초기화\n",
    "arange(): 내장함수 range()와 동일한 기능\n",
    "reshape(): 차원을 재구성\n",
    "transpose(): 행렬의 전치\n",
    "flatten(): 다차원 배열을 1차원 배열로 평탄화\n",
    "sqeez(): 비어있는 차원 제거\n",
    "\n",
    "#ndarray 객체 사용\n",
    "sum(): 합계 반환 \n",
    "mean(): 평균값 반환\n",
    "max(): 최대값 반환\n",
    "min(): 최소값 반환\n",
    "std(): 표준편차\n",
    "var(): 분산\n",
    "argmax(): 최대값을 가지는 요소의 인덱스 반환\n",
    "argmin(): 최소값을 가지는 요소의 인덱스 반환\n",
    "where(): 조건식에 따라 배열의 요소 값을 특정 값으로 변경\n",
    "sort(): 배열을 오름차순으로 정렬\n",
    "\n",
    "trace(A): 행렬 A의 대각합 (Trace) 계산\n",
    "linalg.cholesky(A): 행렬 A의 Cholesky 분해\n",
    "linalg.qr(A): 행렬 A의 QR 분해\n",
    "linalg.svd(A): 행렬 A의 특이값 분해 (SVD)\n",
    "\n",
    "#행렬연산\n",
    "add(A, B): 두 행렬 A와 B의 요소별 덧셈\n",
    "subtract(A, B): 두 행렬 A와 B의 요소별 뺄셈\n",
    "multiply(A, B): 두 행렬 A와 B의 요소별 곱셈\n",
    "divide(A, B): 두 행렬 A와 B의 요소별 나눗셈\n",
    "dot(A, B): 두 행렬의 행렬 곱셈\n",
    "matmul(A, B): 행렬 곱셈 (배치 행렬 곱셈 포함)\n",
    "linalg.inv(A): 행렬 A의 역행렬\n",
    "linalg.det(A): 행렬 A의 행렬식 계산\n",
    "linalg.eig(A): 행렬 A의 고유값과 고유벡터 계산\n",
    "linalg.norm(A): 행렬 A의 노름 계산\n",
    "linalg.solve(A, B): 선형 연립 방정식 Ax = B를 푸는 해 x 계산\n",
    "\n",
    "\n"
   ]
  },
  {
   "cell_type": "code",
   "execution_count": 3,
   "metadata": {},
   "outputs": [
    {
     "name": "stdout",
     "output_type": "stream",
     "text": [
      "[1 2 3 4 5]\n",
      "[[1 2 3]\n",
      " [4 5 6]]\n"
     ]
    }
   ],
   "source": [
    "import numpy as np\n",
    "ar1 = np.array([1,2,3,4,5])\n",
    "ar2 = np.array([[1,2,3],[4,5,6]])\n",
    "print(ar1)\n",
    "print(ar2)"
   ]
  },
  {
   "cell_type": "code",
   "execution_count": 3,
   "metadata": {},
   "outputs": [
    {
     "name": "stdout",
     "output_type": "stream",
     "text": [
      "[ 0.50935645  1.58570421 -0.41927664]\n",
      "[[-0.03817219 -0.46463433 -0.5506665 ]\n",
      " [ 0.12971586  0.36676354 -0.36409864]]\n"
     ]
    }
   ],
   "source": [
    "ar3 = np.random.randn(3) #3 크기의 1차원 배열 생성\n",
    "ar4 = np.random.randn(2,3) #2*3 크기의 2차원 배열을 생성\n",
    "print(ar3)\n",
    "print(ar4)\n"
   ]
  },
  {
   "cell_type": "code",
   "execution_count": 5,
   "metadata": {},
   "outputs": [
    {
     "name": "stdout",
     "output_type": "stream",
     "text": [
      "[0. 0. 0. 0. 0.]\n",
      "[[1. 1. 1.]\n",
      " [1. 1. 1.]]\n"
     ]
    }
   ],
   "source": [
    "ar5 = np.zeros(5)\n",
    "ar6 = np.ones((2,3))\n",
    "print(ar5)\n",
    "print(ar6)"
   ]
  },
  {
   "cell_type": "code",
   "execution_count": 8,
   "metadata": {},
   "outputs": [
    {
     "name": "stdout",
     "output_type": "stream",
     "text": [
      "[ 20  30  40  50  60  70  80  90 100 110 120 130 140 150 160 170 180 190]\n",
      "[[ 20  30  40  50  60  70]\n",
      " [ 80  90 100 110 120 130]\n",
      " [140 150 160 170 180 190]]\n"
     ]
    }
   ],
   "source": [
    "ar7 = np.arange(20,200,10)\n",
    "ar8 = ar7.reshape(3,6)\n",
    "print(ar7)\n",
    "print(ar8)"
   ]
  },
  {
   "cell_type": "code",
   "execution_count": 13,
   "metadata": {},
   "outputs": [
    {
     "name": "stdout",
     "output_type": "stream",
     "text": [
      "[ 1  2  3  4  5  6  7  8  9 10 11 12 13 14 15 16 17 18 19 20]\n",
      "2\n",
      "[[ 1  2  3  4  5  6  7  8  9 10]\n",
      " [11 12 13 14 15 16 17 18 19 20]]\n",
      "[ 11 100  13]\n"
     ]
    }
   ],
   "source": [
    "#ndarray의 인덱싱\n",
    "ar1 = np.arange(1,21,1)\n",
    "print(ar1)\n",
    "print(ar1[1])\n",
    "\n",
    "ar2 =ar1.reshape(2,10)\n",
    "print(ar2)\n",
    "ar2[1][1] = 100\n",
    "print(ar2[1][0:3])"
   ]
  },
  {
   "cell_type": "code",
   "execution_count": 14,
   "metadata": {},
   "outputs": [
    {
     "name": "stdout",
     "output_type": "stream",
     "text": [
      "[ 1  2  3  4  5  6  7  8  9 10]\n",
      "[ 4  5  6  7  8  9 10 11 12 13] \n",
      " [ 2  4  6  8 10 12 14 16 18 20]\n"
     ]
    }
   ],
   "source": [
    "ar1 = np.arange(1,11,1)\n",
    "ar2 = ar1 + 3 #broadcasting\n",
    "ar3 = ar1 * 2\n",
    "print(ar1)\n",
    "print(ar2, \"\\n\", ar3)"
   ]
  },
  {
   "cell_type": "code",
   "execution_count": 18,
   "metadata": {},
   "outputs": [
    {
     "name": "stdout",
     "output_type": "stream",
     "text": [
      "[[ 5  7  9]\n",
      " [-7 -6 19]\n",
      " [ 6  9 11]]\n",
      "53\n",
      "5.888888888888889\n",
      "7.651353466971919\n",
      "58.5432098765432\n",
      "19\n",
      "-7\n",
      "[ 6  9 19]\n",
      "[ 9 19 11]\n"
     ]
    }
   ],
   "source": [
    "ar1 = np.array([[5,7,9],[-7,-6,19],[6,9,11]])\n",
    "print(ar1)\n",
    "print(ar1.sum())\n",
    "print(ar1.mean())\n",
    "print(ar1.std())\n",
    "print(ar1.var())\n",
    "print(ar1.max())\n",
    "print(ar1.min())\n",
    "print(ar1.max(axis=0)) #열 방향(결과는 행)\n",
    "print(ar1.max(axis=1)) #행 방향 max(결과는 열)"
   ]
  },
  {
   "cell_type": "code",
   "execution_count": 24,
   "metadata": {},
   "outputs": [
    {
     "name": "stdout",
     "output_type": "stream",
     "text": [
      "[[ True  True  True]\n",
      " [False False  True]\n",
      " [ True  True  True]]\n",
      "2\n",
      "[[ 5  7  9]\n",
      " [ 0  0 19]\n",
      " [ 6  9 11]]\n"
     ]
    }
   ],
   "source": [
    "ar1 = np.array([[5,7,9],[-7,-6,19],[6,9,11]])\n",
    "print(ar1>0) #각 원소가 0보다 큰지 판단한 결과(T/F행렬)\n",
    "m_count = (ar1<0).sum() #원소 중 음수가 몇개인지 계산\n",
    "print(m_count)\n",
    "\n",
    "ar2 = np.where(ar1<0,0,ar1) #0보다 작은 원소를 0으로 변경\n",
    "print(ar2)"
   ]
  },
  {
   "cell_type": "code",
   "execution_count": 28,
   "metadata": {},
   "outputs": [
    {
     "name": "stdout",
     "output_type": "stream",
     "text": [
      "[[ 5  7  9]\n",
      " [-7 -6 19]\n",
      " [ 6  9 11]]\n",
      "[[-7 -6  9]\n",
      " [ 5  7 11]\n",
      " [ 6  9 19]]\n",
      "[[ 5  7  9]\n",
      " [ 0  0 19]\n",
      " [ 6  9 11]]\n"
     ]
    }
   ],
   "source": [
    "ar1 = np.array([[5,7,9],[-7,-6,19],[6,9,11]])\n",
    "print(ar1)\n",
    "ar1.sort(0) #열 단위로 원소를 정렬\n",
    "print(ar1)\n",
    "ar1.sort(1) #행 단위로 원소를 정렬\n",
    "print(ar2)"
   ]
  },
  {
   "cell_type": "code",
   "execution_count": 31,
   "metadata": {},
   "outputs": [
    {
     "name": "stdout",
     "output_type": "stream",
     "text": [
      "[[19 22]\n",
      " [43 50]]\n",
      "[[ 5 12]\n",
      " [21 32]]\n"
     ]
    }
   ],
   "source": [
    "A = np.array([[1, 2], [3, 4]])\n",
    "B = np.array([[5, 6], [7, 8]])\n",
    "print(np.dot(A, B)) #inner-product\n",
    "print(np.multiply(A, B)) #element-wise"
   ]
  },
  {
   "cell_type": "code",
   "execution_count": null,
   "metadata": {},
   "outputs": [],
   "source": [
    "def apply_operation(operation, x, y):\n",
    "    return operation(x, y)\n",
    "\n",
    "A = np.array([1, 2, 3])\n",
    "B = np.array([4, 5, 6])\n",
    "\n",
    "result = apply_operation(np.add, A, B)\n",
    "result = apply_operation(np.subtract, A, B)"
   ]
  }
 ],
 "metadata": {
  "kernelspec": {
   "display_name": "Python 3",
   "language": "python",
   "name": "python3"
  },
  "language_info": {
   "codemirror_mode": {
    "name": "ipython",
    "version": 3
   },
   "file_extension": ".py",
   "mimetype": "text/x-python",
   "name": "python",
   "nbconvert_exporter": "python",
   "pygments_lexer": "ipython3",
   "version": "3.12.0"
  }
 },
 "nbformat": 4,
 "nbformat_minor": 2
}
