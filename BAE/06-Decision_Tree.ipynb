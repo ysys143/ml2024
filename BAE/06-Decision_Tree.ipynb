{
 "cells": [
  {
   "cell_type": "markdown",
   "metadata": {},
   "source": [
    "Scikit-learn 패키지 구성\n",
    "\n",
    "(모듈)\n",
    "\n",
    "변수처리 \n",
    "sklearn.preprocessing : 데이터 전처리에 필요한 기능 제공\n",
    "sklearn.feature_selection : 알고리즘에 큰 영향을 미치는 변수를 우선순위대로 선택\n",
    "sklearn.feature_extraction : 텍스트 데이터나 이미지 데이터의 벡터화된 피처를 추출하는데 사용\n",
    "\n",
    "데이터 분리\n",
    "sklearn.model_selection: 차원 축소와 관련한 알고리즘을 지원하는 모듈\n",
    "\n",
    "평가\n",
    "sklearn.metrics: Accuracy, Precision, Recall, ROC-AUC, RMSE 등\n",
    "\n",
    "머신러닝\n",
    "sklearn.tree\n",
    "sklearn.neighbors\n",
    "sklearn.svm\n",
    "sklearn.ensemble\n",
    "sklearn.linear_model\n",
    "sklearn.naive_bayes\n",
    "sklearn.cluster\n",
    "\n",
    "(클래스)\n",
    "\n",
    "분류\n",
    "DecisionTreeClassifier\n",
    "RandomForestClassifier\n",
    "GradientBoostingClassifier\n",
    "GaussianNB\n",
    "SVC\n",
    "\n",
    "회귀\n",
    "LinearRegression\n",
    "Ridge\n",
    "Lasso\n",
    "RandomForestRegressor\n",
    "GradientBoostingRegressor\n"
   ]
  },
  {
   "cell_type": "code",
   "execution_count": 1,
   "metadata": {},
   "outputs": [],
   "source": [
    "import numpy as np\n",
    "import pandas as pd\n",
    "import sklearn"
   ]
  },
  {
   "cell_type": "code",
   "execution_count": 26,
   "metadata": {},
   "outputs": [],
   "source": [
    "#의사결정나무 분류모델을 위한 패키지\n",
    "from sklearn.tree import DecisionTreeClassifier\n",
    "\n",
    "#세트 분리를 위한 패키지\n",
    "from sklearn.model_selection import train_test_split\n",
    "\n",
    "#data loading\n",
    "df = pd.read_csv(\"iris.csv\")\n"
   ]
  },
  {
   "cell_type": "code",
   "execution_count": 25,
   "metadata": {},
   "outputs": [
    {
     "name": "stdout",
     "output_type": "stream",
     "text": [
      "0.9333333333333333\n"
     ]
    }
   ],
   "source": [
    "#텍스트로 되어 있는 variety 칼럼을 숫자로 변환\n",
    "df['variety'] = df['variety'].replace({'setosa':0, 'versicolor':1, 'virginica':2})\n",
    "\n",
    "#분석 데이터셋 준비\n",
    "X2 = df.iloc[:,0:4]\n",
    "y = df.iloc[:,[4]]\n",
    "\n",
    "X_train, X_test, y_train, y_test = train_test_split(X,y,test_size=0.2, random_state=11)\n",
    "\n",
    "#DecisionTreeClassifier 객체 생성\n",
    "dt = DecisionTreeClassifier(random_state=11)\n",
    "dt.fit(X_train, y_train)\n",
    "\n",
    "#학습이 완료된 dt 객체에서 테스트 데이터셋으로 예측 수행\n",
    "pred = dt.predict(X_test)\n",
    "\n",
    "#성능평가\n",
    "from sklearn. metrics import accuracy_score\n",
    "acc = accuracy_score(y_test, pred)\n",
    "print(acc)"
   ]
  },
  {
   "cell_type": "code",
   "execution_count": 29,
   "metadata": {},
   "outputs": [
    {
     "name": "stdout",
     "output_type": "stream",
     "text": [
      "0.9333333333333333\n"
     ]
    }
   ],
   "source": [
    "#텍스트로 되어 있는 variety 칼럼을 숫자로 변환\n",
    "#df['variety'] = df['variety'].replace({'setosa':0, 'versicolor':1, 'virginica':2})\n",
    "df['variety'] = df['variety'].astype('category')\n",
    "\n",
    "#분석 데이터셋 준비\n",
    "X2 = df.iloc[:,0:4]\n",
    "y = df.iloc[:,[4]]\n",
    "\n",
    "X_train, X_test, y_train, y_test = train_test_split(X,y,test_size=0.2, random_state=11)\n",
    "\n",
    "#DecisionTreeClassifier 객체 생성\n",
    "dt = DecisionTreeClassifier(random_state=11)\n",
    "dt.fit(X_train, y_train)\n",
    "\n",
    "#학습이 완료된 dt 객체에서 테스트 데이터셋으로 예측 수행\n",
    "pred = dt.predict(X_test)\n",
    "\n",
    "#성능평가\n",
    "from sklearn. metrics import accuracy_score\n",
    "acc = accuracy_score(y_test, pred)\n",
    "print(acc)"
   ]
  }
 ],
 "metadata": {
  "kernelspec": {
   "display_name": "base",
   "language": "python",
   "name": "python3"
  },
  "language_info": {
   "codemirror_mode": {
    "name": "ipython",
    "version": 3
   },
   "file_extension": ".py",
   "mimetype": "text/x-python",
   "name": "python",
   "nbconvert_exporter": "python",
   "pygments_lexer": "ipython3",
   "version": "3.12.0"
  }
 },
 "nbformat": 4,
 "nbformat_minor": 2
}
