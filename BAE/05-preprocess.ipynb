{
 "cells": [
  {
   "cell_type": "code",
   "execution_count": null,
   "metadata": {},
   "outputs": [],
   "source": [
    "#표준정규화\n",
    "\n",
    "import numpy as np\n",
    "import pandas as pd\n",
    "\n",
    "#샘플데이터 생성 \n",
    "meat_consumption_korea = 5*np.random.randn(1000)+53.9\n",
    "meat_consumption_japan = 4*np.random.randn(1000)+32.7\n",
    "\n",
    "#데이터 프레임 생성\n",
    "df = pd.DataFrame({\"한국인\":meat_consumption_korea, \"일본인\":meat_consumption_japan})\n",
    "df.head()\n"
   ]
  },
  {
   "cell_type": "code",
   "execution_count": null,
   "metadata": {},
   "outputs": [],
   "source": [
    "#histogram을 통한 시각화\n",
    "import matplotlib.pyplot as plt\n",
    "\n",
    "plt.hist(meat_consumption_korea)\n",
    "plt.xlabel('Korea')\n",
    "plt.show()"
   ]
  },
  {
   "cell_type": "code",
   "execution_count": null,
   "metadata": {},
   "outputs": [],
   "source": [
    "plt.hist(meat_consumption_japan)\n",
    "plt.xlabel('Japan')\n",
    "plt.show()"
   ]
  },
  {
   "cell_type": "code",
   "execution_count": null,
   "metadata": {},
   "outputs": [],
   "source": [
    "#Z-normalization\n",
    "\n",
    "#import numpy as np\n",
    "#import pandas as pd\n",
    "import scipy.stats as ss\n",
    "\n",
    "#scipy.stats.zscore attribute 사용\n",
    "df[\"한국인 정규화\"] = ss.zscore(meat_consumption_korea)\n",
    "df[\"일본인 정규화\"] = ss.zscore(meat_consumption_japan)\n",
    "\n",
    "df.head()\n"
   ]
  },
  {
   "cell_type": "code",
   "execution_count": null,
   "metadata": {},
   "outputs": [],
   "source": [
    "#(x-np.mean(x))/np.std(x)\n",
    "df[\"한국인 정규화2\"] = (meat_consumption_korea -  np.mean(meat_consumption_korea))/np.std(meat_consumption_korea)\n",
    "df[\"일본인 정규화2\"] = (meat_consumption_japan -  np.mean(meat_consumption_japan))/np.std(meat_consumption_japan)\n",
    "\n",
    "df.head()\n"
   ]
  },
  {
   "cell_type": "code",
   "execution_count": null,
   "metadata": {},
   "outputs": [],
   "source": [
    "plt.hist(df[\"한국인 정규화\"])\n",
    "plt.xlabel('korea')\n",
    "plt.show()\n",
    "\n",
    "plt.hist(df[\"일본인 정규화\"])\n",
    "plt.xlabel('japan')\n",
    "plt.show()"
   ]
  },
  {
   "cell_type": "code",
   "execution_count": null,
   "metadata": {},
   "outputs": [],
   "source": [
    "#using sklearn.preprocessing.StandScaler\n",
    "\n",
    "from sklearn.preprocessing import StandardScaler\n",
    "\n",
    "scaler = StandardScaler()\n",
    "df[\"한국인 정규화3\"] = scaler.fit_transform(df[[\"한국인\"]])\n",
    "\n",
    "scaler = StandardScaler()\n",
    "df[\"일본인 정규화3\"] = scaler.fit_transform(df[[\"일본인\"]])\n",
    "\n",
    "df.head()"
   ]
  },
  {
   "cell_type": "code",
   "execution_count": null,
   "metadata": {},
   "outputs": [],
   "source": [
    "#min-max normalization\n",
    "\n",
    "df[\"한국인 MinMax\"] = (df[\"한국인\"]-np.min(df[\"한국인\"]))/(np.max(df[\"한국인\"])-np.min(df[\"한국인\"]))\n",
    "df[\"일본인 MinMax\"] = (df[\"일본인\"]-np.min(df[\"일본인\"]))/(np.max(df[\"일본인\"])-np.min(df[\"일본인\"])\n",
    "                                                  )\n",
    "from sklearn.preprocessing import MinMaxScaler\n",
    "\n",
    "scaler = MinMaxScaler()\n",
    "df[\"한국인 MinMax2\"] = scaler.fit_transform(df[[\"한국인\"]])\n",
    "\n",
    "scaler = MinMaxScaler()\n",
    "df[\"일본인 MinMax2\"] = scaler.fit_transform(df[[\"일본인\"]])\n",
    "\n",
    "df.head()\n"
   ]
  },
  {
   "cell_type": "code",
   "execution_count": null,
   "metadata": {},
   "outputs": [],
   "source": [
    "#skweness\n",
    "\n",
    "df = pd.read_csv('USJudgeRatings.csv')\n",
    "df.head(10)"
   ]
  },
  {
   "cell_type": "code",
   "execution_count": null,
   "metadata": {},
   "outputs": [],
   "source": [
    "import scipy.stats as ss\n",
    "print(ss.skew(df[\"CONT\"]))\n",
    "print(ss.skew(df[\"PHYS\"]))"
   ]
  },
  {
   "cell_type": "code",
   "execution_count": null,
   "metadata": {},
   "outputs": [],
   "source": [
    "#양의 왜도의 경우 log를 씌워서 정규화\n",
    "df[\"CONT1\"] = np.log(df[\"CONT\"])\n",
    "#음의 왜도의 경우 log(max(x+1)-x)\n",
    "df[\"PHYS1\"] = np.log(max(df[\"PHYS\"]+1)-df[\"PHYS\"]) \n",
    "print(ss.skew(df[\"CONT1\"]))\n",
    "print(ss.skew(df[\"PHYS1\"]))"
   ]
  },
  {
   "cell_type": "code",
   "execution_count": null,
   "metadata": {},
   "outputs": [],
   "source": [
    "#범주화"
   ]
  },
  {
   "cell_type": "code",
   "execution_count": null,
   "metadata": {},
   "outputs": [],
   "source": [
    "df = []\n",
    "\n",
    "while True:\n",
    "    tmp = input()\n",
    "    if tmp == \"\": break\n",
    "    else:\n",
    "        df.append([tmp.split()[0], int(tmp.split()[1])])\n",
    "\n",
    "df = pd.DataFrame(df)\n",
    "df.columns=['이름','수학점수']"
   ]
  },
  {
   "cell_type": "code",
   "execution_count": null,
   "metadata": {},
   "outputs": [],
   "source": [
    "plt.hist(df[\"수학점수\"], bins=5, range=[50,100], rwidth=0.9)"
   ]
  },
  {
   "cell_type": "code",
   "execution_count": null,
   "metadata": {},
   "outputs": [],
   "source": [
    "#조건을 사용해서 구간을 직접 지정 -> 규칙이 존재하지 않는 경우\n",
    "df[\"등급\"] = 0\n",
    "df.loc[df[\"수학점수\"]<60,\"등급\"]=\"F\"\n",
    "df.loc[(df[\"수학점수\"]>=60) & (df[\"수학점수\"]<70) ,\"등급\"]=\"D\"\n",
    "df.loc[(df[\"수학점수\"]>=70) & (df[\"수학점수\"]<80) ,\"등급\"]=\"C\"\n",
    "df.loc[(df[\"수학점수\"]>=80) & (df[\"수학점수\"]<90) ,\"등급\"]=\"B\"\n",
    "df.loc[(df[\"수학점수\"]>=90) & (df[\"수학점수\"]<100) ,\"등급\"]=\"A\"\n",
    "\n",
    "df"
   ]
  },
  {
   "cell_type": "code",
   "execution_count": null,
   "metadata": {},
   "outputs": [],
   "source": [
    "#cut함수 사용\n",
    "df[\"등급\"] = pd.cut(x=df[\"수학점수\"],\n",
    "              bins=[0,60,70,80,90,100],\n",
    "              labels=[\"F\",\"D\",\"C\",\"B\",\"A\"],\n",
    "              include_lowest=True)\n",
    "df"
   ]
  },
  {
   "cell_type": "code",
   "execution_count": null,
   "metadata": {},
   "outputs": [],
   "source": [
    "#qcut함수 - 각 범주에 균등한 수의 데이터가 채워지도록 구간을 설정\n",
    "df[\"등급_qcut\"] = pd.qcut(x=df[\"수학점수\"],q=5,labels=[\"F\",\"D\",\"C\",\"B\",\"A\"])\n",
    "df"
   ]
  },
  {
   "cell_type": "code",
   "execution_count": null,
   "metadata": {},
   "outputs": [],
   "source": [
    "#PCA\n",
    "\n",
    "import numpy as np\n",
    "import pandas as pd\n",
    "import matplotlib.pyplot as plt\n",
    "\n",
    "iris = pd.read_csv(\"iris.csv\")\n",
    "\n",
    "#범주형 변수 제거\n",
    "df = iris.drop([\"variety\"], axis=1)\n",
    "df.head()"
   ]
  },
  {
   "cell_type": "code",
   "execution_count": null,
   "metadata": {},
   "outputs": [],
   "source": [
    "#PCA를 할 때 변수 간 스케일이 차이가 나면 스케일이 큰 변수가 주성분에 영향을 많이 주기 때문에 정규화를 해줘야 한다\n",
    "from sklearn.preprocessing import StandardScaler\n",
    "\n",
    "df[\"sepal.length\"] = StandardScaler().fit_transform(df[[\"sepal.length\"]])\n",
    "df[\"sepal.width\"] = StandardScaler().fit_transform(df[[\"sepal.width\"]])\n",
    "df[\"petal.length\"] = StandardScaler().fit_transform(df[[\"petal.length\"]])\n",
    "df[\"petal.width\"] = StandardScaler().fit_transform(df[[\"petal.width\"]])\n",
    "\n",
    "\n",
    "\n",
    "#apply 메서드를 이용한 간결한 스케일링 적용\n",
    "scaler = StandardScaler()\n",
    "df_scaled = df.apply(lambda x: scaler.fit_transform(x.values.reshape(-1, 1)).flatten(), axis=0)\n",
    "df_scaled.columns = df.columns"
   ]
  },
  {
   "cell_type": "code",
   "execution_count": null,
   "metadata": {},
   "outputs": [],
   "source": [
    "from sklearn.decomposition import PCA\n",
    "\n",
    "pca = PCA(n_components=4)\n",
    "p_score = pca.fit_transform(df)\n",
    "print(p_score.shape)\n",
    "print(pca.explained_variance_ratio_)"
   ]
  },
  {
   "cell_type": "code",
   "execution_count": null,
   "metadata": {},
   "outputs": [],
   "source": [
    "help(pca)"
   ]
  },
  {
   "cell_type": "code",
   "execution_count": 62,
   "metadata": {},
   "outputs": [
    {
     "name": "stdout",
     "output_type": "stream",
     "text": [
      "<class 'pandas.core.frame.DataFrame'>\n",
      "RangeIndex: 10 entries, 0 to 9\n",
      "Data columns (total 1 columns):\n",
      " #   Column  Non-Null Count  Dtype  \n",
      "---  ------  --------------  -----  \n",
      " 0   토론      8 non-null      float64\n",
      "dtypes: float64(1)\n",
      "memory usage: 212.0 bytes\n"
     ]
    }
   ],
   "source": [
    "#결측처리\n",
    "df = pd.DataFrame()\n",
    "x = [14,15,13,14,None,None,19,11,12,18]\n",
    "df[\"토론\"] = x\n",
    "df.info()"
   ]
  },
  {
   "cell_type": "code",
   "execution_count": 64,
   "metadata": {},
   "outputs": [
    {
     "data": {
      "text/html": [
       "<div>\n",
       "<style scoped>\n",
       "    .dataframe tbody tr th:only-of-type {\n",
       "        vertical-align: middle;\n",
       "    }\n",
       "\n",
       "    .dataframe tbody tr th {\n",
       "        vertical-align: top;\n",
       "    }\n",
       "\n",
       "    .dataframe thead th {\n",
       "        text-align: right;\n",
       "    }\n",
       "</style>\n",
       "<table border=\"1\" class=\"dataframe\">\n",
       "  <thead>\n",
       "    <tr style=\"text-align: right;\">\n",
       "      <th></th>\n",
       "      <th>토론</th>\n",
       "    </tr>\n",
       "  </thead>\n",
       "  <tbody>\n",
       "    <tr>\n",
       "      <th>0</th>\n",
       "      <td>False</td>\n",
       "    </tr>\n",
       "    <tr>\n",
       "      <th>1</th>\n",
       "      <td>False</td>\n",
       "    </tr>\n",
       "    <tr>\n",
       "      <th>2</th>\n",
       "      <td>False</td>\n",
       "    </tr>\n",
       "    <tr>\n",
       "      <th>3</th>\n",
       "      <td>False</td>\n",
       "    </tr>\n",
       "    <tr>\n",
       "      <th>4</th>\n",
       "      <td>True</td>\n",
       "    </tr>\n",
       "    <tr>\n",
       "      <th>5</th>\n",
       "      <td>True</td>\n",
       "    </tr>\n",
       "    <tr>\n",
       "      <th>6</th>\n",
       "      <td>False</td>\n",
       "    </tr>\n",
       "    <tr>\n",
       "      <th>7</th>\n",
       "      <td>False</td>\n",
       "    </tr>\n",
       "    <tr>\n",
       "      <th>8</th>\n",
       "      <td>False</td>\n",
       "    </tr>\n",
       "    <tr>\n",
       "      <th>9</th>\n",
       "      <td>False</td>\n",
       "    </tr>\n",
       "  </tbody>\n",
       "</table>\n",
       "</div>"
      ],
      "text/plain": [
       "      토론\n",
       "0  False\n",
       "1  False\n",
       "2  False\n",
       "3  False\n",
       "4   True\n",
       "5   True\n",
       "6  False\n",
       "7  False\n",
       "8  False\n",
       "9  False"
      ]
     },
     "execution_count": 64,
     "metadata": {},
     "output_type": "execute_result"
    }
   ],
   "source": [
    "print(df.isnull())\n",
    "print(df[\"토론\"].isnull().sum())"
   ]
  },
  {
   "cell_type": "code",
   "execution_count": 114,
   "metadata": {},
   "outputs": [
    {
     "data": {
      "text/plain": [
       "PassengerId      0\n",
       "Survived         0\n",
       "Pclass           0\n",
       "Name             0\n",
       "Sex              0\n",
       "Age            177\n",
       "SibSp            0\n",
       "Parch            0\n",
       "Ticket           0\n",
       "Fare             0\n",
       "Cabin          687\n",
       "Embarked         2\n",
       "dtype: int64"
      ]
     },
     "execution_count": 114,
     "metadata": {},
     "output_type": "execute_result"
    }
   ],
   "source": [
    "titanic = pd.read_csv('titanic.csv')\n",
    "titanic.isnull().sum()"
   ]
  },
  {
   "cell_type": "code",
   "execution_count": 75,
   "metadata": {},
   "outputs": [
    {
     "name": "stdout",
     "output_type": "stream",
     "text": [
      "0\n"
     ]
    },
    {
     "data": {
      "text/plain": [
       "(183, 12)"
      ]
     },
     "execution_count": 75,
     "metadata": {},
     "output_type": "execute_result"
    }
   ],
   "source": [
    "#결측대체\n",
    "\n",
    "#완전분석법 - 해당 행을 삭제\n",
    "#df.dropna(axis=0): 결측이 있는 모든 행을 삭제\n",
    "#df.dropna(axis=1): 결측이 있는 모든 열을 삭제\n",
    "#df.dropna(subset=[\"Age\"],axis=0): Age열에 결측이 있는 모든 행을 삭제\n",
    "titanic_1 = titanic.dropna(axis=0)\n",
    "print(titanic_1.isnull().sum().sum())\n",
    "titanic_1.shape"
   ]
  },
  {
   "cell_type": "code",
   "execution_count": 116,
   "metadata": {},
   "outputs": [
    {
     "name": "stdout",
     "output_type": "stream",
     "text": [
      "0\n"
     ]
    },
    {
     "name": "stderr",
     "output_type": "stream",
     "text": [
      "/var/folders/fx/7qldcfl92nb_g9hqp_lrssxm0000gn/T/ipykernel_29415/3442760126.py:4: FutureWarning: A value is trying to be set on a copy of a DataFrame or Series through chained assignment using an inplace method.\n",
      "The behavior will change in pandas 3.0. This inplace method will never work because the intermediate object on which we are setting values always behaves as a copy.\n",
      "\n",
      "For example, when doing 'df[col].method(value, inplace=True)', try using 'df.method({col: value}, inplace=True)' or df[col] = df[col].method(value) instead, to perform the operation inplace on the original object.\n",
      "\n",
      "\n",
      "  titanic[\"Age\"].fillna(age_mean, inplace=True)\n"
     ]
    }
   ],
   "source": [
    "#평균대치법 - 평균으로 대치\n",
    "titanic[\"Age\"].isnull().sum() #Age 컬럼의 결측개수\n",
    "age_mean = titanic[\"Age\"].mean()\n",
    "titanic[\"Age\"].fillna(age_mean, inplace=True)\n",
    "print(titanic[\"Age\"].isnull().sum())"
   ]
  },
  {
   "cell_type": "code",
   "execution_count": 118,
   "metadata": {},
   "outputs": [
    {
     "name": "stdout",
     "output_type": "stream",
     "text": [
      "0\n",
      "0\n"
     ]
    }
   ],
   "source": [
    "#최빈값으로 대치\n",
    "from scipy.stats import mode\n",
    "print(titanic[\"Embarked\"].isnull().sum())\n",
    "embarked_mode = titanic[\"Embarked\"].mode()[0] #최빈값\n",
    "titanic[\"Embarked\"].fillna(embarked_mode, inplace=True)\n",
    "print(titanic[\"Embarked\"].isnull().sum())"
   ]
  },
  {
   "cell_type": "code",
   "execution_count": 120,
   "metadata": {},
   "outputs": [
    {
     "name": "stdout",
     "output_type": "stream",
     "text": [
      "2\n",
      "0\n"
     ]
    },
    {
     "name": "stderr",
     "output_type": "stream",
     "text": [
      "/var/folders/fx/7qldcfl92nb_g9hqp_lrssxm0000gn/T/ipykernel_29415/3038284277.py:4: FutureWarning: A value is trying to be set on a copy of a DataFrame or Series through chained assignment using an inplace method.\n",
      "The behavior will change in pandas 3.0. This inplace method will never work because the intermediate object on which we are setting values always behaves as a copy.\n",
      "\n",
      "For example, when doing 'df[col].method(value, inplace=True)', try using 'df.method({col: value}, inplace=True)' or df[col] = df[col].method(value) instead, to perform the operation inplace on the original object.\n",
      "\n",
      "\n",
      "  titanic[\"Embarked\"].fillna(method='ffill', inplace=True)\n",
      "/var/folders/fx/7qldcfl92nb_g9hqp_lrssxm0000gn/T/ipykernel_29415/3038284277.py:4: FutureWarning: Series.fillna with 'method' is deprecated and will raise in a future version. Use obj.ffill() or obj.bfill() instead.\n",
      "  titanic[\"Embarked\"].fillna(method='ffill', inplace=True)\n"
     ]
    }
   ],
   "source": [
    "#인접한 값으로 대치\n",
    "titanic = pd.read_csv('titanic.csv')\n",
    "print(titanic[\"Embarked\"].isnull().sum())\n",
    "titanic[\"Embarked\"].fillna(method='ffill', inplace=True)\n",
    "print(titanic[\"Embarked\"].isnull().sum())\n"
   ]
  },
  {
   "cell_type": "code",
   "execution_count": 126,
   "metadata": {},
   "outputs": [
    {
     "name": "stdout",
     "output_type": "stream",
     "text": [
      "Sex\n",
      "female    27.915709\n",
      "male      30.726645\n",
      "Name: Age, dtype: float64\n",
      "Pclass\n",
      "1    38.233441\n",
      "2    29.877630\n",
      "3    25.140620\n",
      "Name: Age, dtype: float64\n",
      "Pclass          1          2          3\n",
      "Sex                                    \n",
      "female  34.611765  28.722973  21.750000\n",
      "male    41.281386  30.740707  26.507589\n",
      "Pclass          1          2          3\n",
      "Sex                                    \n",
      "female  34.611765  28.722973  21.750000\n",
      "male    41.281386  30.740707  26.507589\n"
     ]
    },
    {
     "name": "stderr",
     "output_type": "stream",
     "text": [
      "/var/folders/fx/7qldcfl92nb_g9hqp_lrssxm0000gn/T/ipykernel_29415/1255914746.py:9: FutureWarning: A value is trying to be set on a copy of a DataFrame or Series through chained assignment using an inplace method.\n",
      "The behavior will change in pandas 3.0. This inplace method will never work because the intermediate object on which we are setting values always behaves as a copy.\n",
      "\n",
      "For example, when doing 'df[col].method(value, inplace=True)', try using 'df.method({col: value}, inplace=True)' or df[col] = df[col].method(value) instead, to perform the operation inplace on the original object.\n",
      "\n",
      "\n",
      "  titanic[\"Age\"].fillna(titanic.groupby([\"Sex\",\"Pclass\"])[\"Age\"].transform('mean'), inplace=True)\n"
     ]
    }
   ],
   "source": [
    "#그룹별 평균으로 대체\n",
    "titanic = pd.read_csv('titanic.csv')\n",
    "print(titanic.groupby(\"Sex\")[\"Age\"].mean())\n",
    "print(titanic.groupby(\"Pclass\")[\"Age\"].mean())\n",
    "\n",
    "titanic[\"Age\"].fillna(titanic.groupby([\"Sex\",\"Pclass\"])[\"Age\"].transform('mean'), inplace=True)\n",
    "titanic.tail()\n",
    "\n",
    "age_mean_table = titanic.pivot_table(index='Sex', columns='Pclass', values='Age', aggfunc='mean')\n",
    "print(age_mean_table)"
   ]
  },
  {
   "cell_type": "code",
   "execution_count": 127,
   "metadata": {},
   "outputs": [
    {
     "data": {
      "image/png": "[encoded data removed]",
      "text/plain": [
       "<Figure size 640x480 with 1 Axes>"
      ]
     },
     "metadata": {},
     "output_type": "display_data"
    }
   ],
   "source": [
    "#이상치 처리\n",
    "import numpy as np\n",
    "import pandas as pd\n",
    "import matplotlib.pyplot as plt\n",
    "\n",
    "#평균 50, 표준편차 10, 난수 200개 생성\n",
    "data = 10*np.random.randn(200)+50 \n",
    "df = pd.DataFrame({\"값\":data})\n",
    "\n",
    "#임의의 이상치 삽입\n",
    "df.loc[201]=2\n",
    "df.loc[202]=100\n",
    "df.loc[203]=10\n",
    "df.loc[204]=110\n",
    "\n",
    "#분포 시각화\n",
    "plt.hist(df[\"값\"],bins=20, rwidth=0.8)\n",
    "plt.show()"
   ]
  },
  {
   "cell_type": "code",
   "execution_count": 129,
   "metadata": {},
   "outputs": [
    {
     "ename": "AttributeError",
     "evalue": "module 'matplotlib.pyplot' has no attribute 'xlab'",
     "output_type": "error",
     "traceback": [
      "\u001b[0;31m---------------------------------------------------------------------------\u001b[0m",
      "\u001b[0;31mAttributeError\u001b[0m                            Traceback (most recent call last)",
      "Cell \u001b[0;32mIn[129], line 3\u001b[0m\n\u001b[1;32m      1\u001b[0m \u001b[38;5;66;03m#IQR 방법\u001b[39;00m\n\u001b[1;32m      2\u001b[0m plt\u001b[38;5;241m.\u001b[39mboxplot(df[\u001b[38;5;124m\"\u001b[39m\u001b[38;5;124m값\u001b[39m\u001b[38;5;124m\"\u001b[39m])\n\u001b[0;32m----> 3\u001b[0m \u001b[43mplt\u001b[49m\u001b[38;5;241;43m.\u001b[39;49m\u001b[43mxlab\u001b[49m(\u001b[38;5;124m\"\u001b[39m\u001b[38;5;124mvar\u001b[39m\u001b[38;5;124m\"\u001b[39m)\n\u001b[1;32m      4\u001b[0m plt\u001b[38;5;241m.\u001b[39mshow()\n",
      "\u001b[0;31mAttributeError\u001b[0m: module 'matplotlib.pyplot' has no attribute 'xlab'"
     ]
    },
    {
     "data": {
      "image/png": "[encoded data removed]",
      "text/plain": [
       "<Figure size 640x480 with 1 Axes>"
      ]
     },
     "metadata": {},
     "output_type": "display_data"
    }
   ],
   "source": [
    "#IQR 방법\n",
    "plt.boxplot(df[\"값\"])\n",
    "plt.show()\n"
   ]
  },
  {
   "cell_type": "code",
   "execution_count": 131,
   "metadata": {},
   "outputs": [
    {
     "name": "stdout",
     "output_type": "stream",
     "text": [
      "41.98139298042847\n",
      "49.65475849982933\n",
      "56.32734501929429\n",
      "IQR= 14.345952038865825\n",
      "41.98139298042847\n",
      "49.65475849982933\n",
      "56.32734501929429\n",
      "IQR= 14.345952038865825\n"
     ]
    }
   ],
   "source": [
    "#dataframe 객체 quantile() 메서드\n",
    "print(df[\"값\"].quantile(.25))\n",
    "print(df[\"값\"].quantile(.5))\n",
    "print(df[\"값\"].quantile(.75))\n",
    "print(\"IQR=\", df[\"값\"].quantile(.75)-df[\"값\"].quantile(.25))\n",
    "\n",
    "#dataframe 객체 describe() 메서드\n",
    "print(df[\"값\"].describe()[\"25%\"])\n",
    "print(df[\"값\"].describe()[\"50%\"])\n",
    "print(df[\"값\"].describe()[\"75%\"])\n",
    "print(\"IQR=\", df[\"값\"].describe()[\"75%\"]-df[\"값\"].describe()[\"25%\"])"
   ]
  },
  {
   "cell_type": "code",
   "execution_count": 132,
   "metadata": {},
   "outputs": [
    {
     "name": "stdout",
     "output_type": "stream",
     "text": [
      "              값\n",
      "38    77.942534\n",
      "124   82.094050\n",
      "202  100.000000\n",
      "204  110.000000\n",
      "        값\n",
      "201   2.0\n",
      "203  10.0\n"
     ]
    }
   ],
   "source": [
    "#이상치 상하한: Q1-1.5*IQR, Q3+1.5*IQR\n",
    "IQR = df[\"값\"].quantile(.75)-df[\"값\"].quantile(.25)\n",
    "upper_bound = df[\"값\"].quantile(.75) + 1.5*IQR\n",
    "lower_bound = df[\"값\"].quantile(.25) - 1.5*IQR\n",
    "upper_outlier = df[df[\"값\"]>upper_bound]\n",
    "lower_outlier = df[df[\"값\"]<lower_bound]\n",
    "\n",
    "print(upper_outlier)\n",
    "print(lower_outlier)"
   ]
  },
  {
   "cell_type": "code",
   "execution_count": 133,
   "metadata": {},
   "outputs": [],
   "source": [
    "from sklearn.preprocessing import StandardScaler\n",
    "df[\"Z값\"] = StandardScaler().fit_transform(df[[\"값\"]])"
   ]
  },
  {
   "cell_type": "code",
   "execution_count": 136,
   "metadata": {},
   "outputs": [
    {
     "data": {
      "text/html": [
       "<div>\n",
       "<style scoped>\n",
       "    .dataframe tbody tr th:only-of-type {\n",
       "        vertical-align: middle;\n",
       "    }\n",
       "\n",
       "    .dataframe tbody tr th {\n",
       "        vertical-align: top;\n",
       "    }\n",
       "\n",
       "    .dataframe thead th {\n",
       "        text-align: right;\n",
       "    }\n",
       "</style>\n",
       "<table border=\"1\" class=\"dataframe\">\n",
       "  <thead>\n",
       "    <tr style=\"text-align: right;\">\n",
       "      <th></th>\n",
       "      <th>값</th>\n",
       "      <th>Z값</th>\n",
       "    </tr>\n",
       "  </thead>\n",
       "  <tbody>\n",
       "    <tr>\n",
       "      <th>38</th>\n",
       "      <td>77.942534</td>\n",
       "      <td>2.241050</td>\n",
       "    </tr>\n",
       "    <tr>\n",
       "      <th>124</th>\n",
       "      <td>82.094050</td>\n",
       "      <td>2.568899</td>\n",
       "    </tr>\n",
       "    <tr>\n",
       "      <th>202</th>\n",
       "      <td>100.000000</td>\n",
       "      <td>3.982944</td>\n",
       "    </tr>\n",
       "    <tr>\n",
       "      <th>204</th>\n",
       "      <td>110.000000</td>\n",
       "      <td>4.772651</td>\n",
       "    </tr>\n",
       "  </tbody>\n",
       "</table>\n",
       "</div>"
      ],
      "text/plain": [
       "              값        Z값\n",
       "38    77.942534  2.241050\n",
       "124   82.094050  2.568899\n",
       "202  100.000000  3.982944\n",
       "204  110.000000  4.772651"
      ]
     },
     "execution_count": 136,
     "metadata": {},
     "output_type": "execute_result"
    }
   ],
   "source": [
    "df[df[\"값\"]>upper_bound][[\"값\",\"Z값\"]]"
   ]
  },
  {
   "cell_type": "code",
   "execution_count": 137,
   "metadata": {},
   "outputs": [
    {
     "data": {
      "text/html": [
       "<div>\n",
       "<style scoped>\n",
       "    .dataframe tbody tr th:only-of-type {\n",
       "        vertical-align: middle;\n",
       "    }\n",
       "\n",
       "    .dataframe tbody tr th {\n",
       "        vertical-align: top;\n",
       "    }\n",
       "\n",
       "    .dataframe thead th {\n",
       "        text-align: right;\n",
       "    }\n",
       "</style>\n",
       "<table border=\"1\" class=\"dataframe\">\n",
       "  <thead>\n",
       "    <tr style=\"text-align: right;\">\n",
       "      <th></th>\n",
       "      <th>값</th>\n",
       "      <th>Z값</th>\n",
       "    </tr>\n",
       "  </thead>\n",
       "  <tbody>\n",
       "    <tr>\n",
       "      <th>201</th>\n",
       "      <td>2.0</td>\n",
       "      <td>-3.756184</td>\n",
       "    </tr>\n",
       "    <tr>\n",
       "      <th>203</th>\n",
       "      <td>10.0</td>\n",
       "      <td>-3.124419</td>\n",
       "    </tr>\n",
       "  </tbody>\n",
       "</table>\n",
       "</div>"
      ],
      "text/plain": [
       "        값        Z값\n",
       "201   2.0 -3.756184\n",
       "203  10.0 -3.124419"
      ]
     },
     "execution_count": 137,
     "metadata": {},
     "output_type": "execute_result"
    }
   ],
   "source": [
    "df[df[\"값\"]<lower_bound][[\"값\",\"Z값\"]]"
   ]
  },
  {
   "cell_type": "code",
   "execution_count": 151,
   "metadata": {},
   "outputs": [
    {
     "data": {
      "image/png": "[encoded data removed]",
      "text/plain": [
       "<Figure size 640x480 with 1 Axes>"
      ]
     },
     "metadata": {},
     "output_type": "display_data"
    }
   ],
   "source": [
    "#평활화\n",
    "df=pd.read_csv(\"lynx.csv\")\n",
    "df.head(10)\n",
    "\n",
    "#10년 단순이동평균\n",
    "df[\"ma\"] = df[\"value\"].rolling(10).mean()\n",
    "plt.plot(df[\"value\"], label=\"Original Data\")\n",
    "plt.plot(df[\"ma\"], label=\"ma\")\n",
    "\n",
    "#지수 가중이동평균: 최근 데이터에 가중치 부여\n",
    "df[\"ema\"] = df[\"value\"].ewm(10).mean()\n",
    "plt.plot(df[\"ema\"], label=\"ema\")\n",
    "\n",
    "plt.legend(loc=\"upper left\", bbox_to_anchor=(1, 1), fontsize='small')\n",
    "plt.show()\n"
   ]
  }
 ],
 "metadata": {
  "kernelspec": {
   "display_name": "Python 3",
   "language": "python",
   "name": "python3"
  },
  "language_info": {
   "codemirror_mode": {
    "name": "ipython",
    "version": 3
   },
   "file_extension": ".py",
   "mimetype": "text/x-python",
   "name": "python",
   "nbconvert_exporter": "python",
   "pygments_lexer": "ipython3",
   "version": "3.12.0"
  }
 },
 "nbformat": 4,
 "nbformat_minor": 2
}
