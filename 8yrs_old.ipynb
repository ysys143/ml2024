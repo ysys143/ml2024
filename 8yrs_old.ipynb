{
 "cells": [
  {
   "cell_type": "code",
   "execution_count": 1,
   "metadata": {},
   "outputs": [
    {
     "name": "stdout",
     "output_type": "stream",
     "text": [
      "Collecting npn\n",
      "  Downloading npn-1.4.tar.gz (21 kB)\n",
      "  Preparing metadata (setup.py) ... \u001b[?25ldone\n",
      "\u001b[?25hBuilding wheels for collected packages: npn\n",
      "  Building wheel for npn (setup.py) ... \u001b[?25ldone\n",
      "\u001b[?25h  Created wheel for npn: filename=npn-1.4-py3-none-any.whl size=19895 sha256=15bdf090a19c8a53d4c2215130524368bd2b8fd7ec0048c92c0497b89161467d\n",
      "  Stored in directory: /Users/jaesolshin/Library/Caches/pip/wheels/16/27/56/8f4dafe669a01577f53ffa6ea15dc2c553f15fc974a03c419d\n",
      "Successfully built npn\n",
      "Installing collected packages: npn\n",
      "Successfully installed npn-1.4\n"
     ]
    }
   ],
   "source": [
    "!pip install npn"
   ]
  },
  {
   "cell_type": "code",
   "execution_count": null,
   "metadata": {},
   "outputs": [],
   "source": []
  }
 ],
 "metadata": {
  "kernelspec": {
   "display_name": "Python 3",
   "language": "python",
   "name": "python3"
  },
  "language_info": {
   "codemirror_mode": {
    "name": "ipython",
    "version": 3
   },
   "file_extension": ".py",
   "mimetype": "text/x-python",
   "name": "python",
   "nbconvert_exporter": "python",
   "pygments_lexer": "ipython3",
   "version": "3.12.5"
  }
 },
 "nbformat": 4,
 "nbformat_minor": 2
}
