{
  "nbformat": 4,
  "nbformat_minor": 0,
  "metadata": {
    "colab": {
      "provenance": [],
      "include_colab_link": true
    },
    "kernelspec": {
      "name": "python3",
      "display_name": "Python 3"
    },
    "language_info": {
      "name": "python"
    }
  },
  "cells": [
    {
      "cell_type": "markdown",
      "metadata": {
        "id": "view-in-github",
        "colab_type": "text"
      },
      "source": [
        "<a href=\"https://colab.research.google.com/github/ysys143/ml2024/blob/main/finding_news_v0_4.ipynb\" target=\"_parent\"><img src=\"https://colab.research.google.com/assets/colab-badge.svg\" alt=\"Open In Colab\"/></a>"
      ]
    },
    {
      "cell_type": "code",
      "execution_count": 37,
      "metadata": {
        "id": "YC5j9HaHfoBw",
        "colab": {
          "base_uri": "https://localhost:8080/"
        },
        "outputId": "6289ed59-272f-4c52-8ed3-71435ef328f1"
      },
      "outputs": [
        {
          "output_type": "stream",
          "name": "stdout",
          "text": [
            "\u001b[?25l   \u001b[90m━━━━━━━━━━━━━━━━━━━━━━━━━━━━━━━━━━━━━━━━\u001b[0m \u001b[32m0.0/49.9 kB\u001b[0m \u001b[31m?\u001b[0m eta \u001b[36m-:--:--\u001b[0m\r\u001b[2K   \u001b[90m━━━━━━━━━━━━━━━━━━━━━━━━━━━━━━━━━━━━━━━━\u001b[0m \u001b[32m49.9/49.9 kB\u001b[0m \u001b[31m1.8 MB/s\u001b[0m eta \u001b[36m0:00:00\u001b[0m\n",
            "\u001b[?25h"
          ]
        }
      ],
      "source": [
        "!pip install -q langchain #언어모델을 활용한 어플리케이션 제작에 도움을 주는 프레임워크\n",
        "!pip install -q -U langchain-community #랭체인에서 제공하는 추가 기능\n",
        "\n",
        "!pip install -q langchain_openai #gemini 언어모델\n",
        "!pip install -q sentence-transformers #문장을 벡터로 변환하는데 사용하는 라이브러리\n",
        "!pip install -q unstructured #비정형 데이터를 처리하고 구조화된 형태로 변환하는 데 사용됨\n",
        "\n",
        "!pip install -q tiktoken # 토큰화\n",
        "!pip install -q faiss-cpu # 벡터 검색, 유사도 검색"
      ]
    },
    {
      "cell_type": "code",
      "source": [
        "from langchain_openai import ChatOpenAI\n",
        "from langchain.prompts import PromptTemplate"
      ],
      "metadata": {
        "id": "FqjFxIGo1ma9"
      },
      "execution_count": 38,
      "outputs": []
    },
    {
      "cell_type": "code",
      "source": [
        "import os\n",
        "import openai\n",
        "import json\n",
        "import requests\n",
        "from datetime import datetime\n",
        "\n",
        "from langchain import LLMChain, OpenAI, PromptTemplate\n",
        "from langchain.chat_models import ChatOpenAI\n",
        "from langchain.document_loaders import UnstructuredURLLoader\n",
        "\n",
        "from langchain.text_splitter import CharacterTextSplitter\n",
        "from langchain.embeddings.openai import OpenAIEmbeddings\n",
        "from langchain.vectorstores import FAISS\n",
        "\n",
        "from langchain.utilities import GoogleSerperAPIWrapper"
      ],
      "metadata": {
        "id": "GrSFAgPJPNR7"
      },
      "execution_count": 25,
      "outputs": []
    },
    {
      "cell_type": "code",
      "source": [
        "import os\n",
        "from google.colab import userdata\n",
        "os.environ[\"OPENAI_API_KEY\"] = userdata.get('openai_key')\n",
        "os.environ[\"SERPER_API_KEY\"] = userdata.get('SERPER_API_KEY')\n",
        "embeddings = OpenAIEmbeddings()"
      ],
      "metadata": {
        "id": "p2xP34-pQyg1",
        "colab": {
          "base_uri": "https://localhost:8080/"
        },
        "outputId": "f7a7a3dc-e16f-43a0-93d9-1defe050c6c3"
      },
      "execution_count": 27,
      "outputs": [
        {
          "output_type": "stream",
          "name": "stderr",
          "text": [
            "<ipython-input-27-3a213f3d4230>:5: LangChainDeprecationWarning: The class `OpenAIEmbeddings` was deprecated in LangChain 0.0.9 and will be removed in 1.0. An updated version of the class exists in the :class:`~langchain-openai package and should be used instead. To use it run `pip install -U :class:`~langchain-openai` and import as `from :class:`~langchain_openai import OpenAIEmbeddings``.\n",
            "  embeddings = OpenAIEmbeddings()\n"
          ]
        }
      ]
    },
    {
      "cell_type": "code",
      "source": [
        "!pip install --upgrade nltk\n",
        "\n",
        "import nltk\n",
        "nltk.download('punkt')"
      ],
      "metadata": {
        "colab": {
          "base_uri": "https://localhost:8080/"
        },
        "id": "cJWR_SohY9Cd",
        "outputId": "2f3f8dd3-c4e9-4de4-e180-2aef382dc6c8"
      },
      "execution_count": 28,
      "outputs": [
        {
          "output_type": "stream",
          "name": "stdout",
          "text": [
            "Requirement already satisfied: nltk in /usr/local/lib/python3.10/dist-packages (3.8.1)\n",
            "Collecting nltk\n",
            "  Downloading nltk-3.9.1-py3-none-any.whl.metadata (2.9 kB)\n",
            "Requirement already satisfied: click in /usr/local/lib/python3.10/dist-packages (from nltk) (8.1.7)\n",
            "Requirement already satisfied: joblib in /usr/local/lib/python3.10/dist-packages (from nltk) (1.4.2)\n",
            "Requirement already satisfied: regex>=2021.8.3 in /usr/local/lib/python3.10/dist-packages (from nltk) (2024.9.11)\n",
            "Requirement already satisfied: tqdm in /usr/local/lib/python3.10/dist-packages (from nltk) (4.66.5)\n",
            "Downloading nltk-3.9.1-py3-none-any.whl (1.5 MB)\n",
            "\u001b[2K   \u001b[90m━━━━━━━━━━━━━━━━━━━━━━━━━━━━━━━━━━━━━━━━\u001b[0m \u001b[32m1.5/1.5 MB\u001b[0m \u001b[31m11.8 MB/s\u001b[0m eta \u001b[36m0:00:00\u001b[0m\n",
            "\u001b[?25hInstalling collected packages: nltk\n",
            "  Attempting uninstall: nltk\n",
            "    Found existing installation: nltk 3.8.1\n",
            "    Uninstalling nltk-3.8.1:\n",
            "      Successfully uninstalled nltk-3.8.1\n",
            "Successfully installed nltk-3.9.1\n"
          ]
        },
        {
          "output_type": "stream",
          "name": "stderr",
          "text": [
            "[nltk_data] Downloading package punkt to /root/nltk_data...\n",
            "[nltk_data]   Unzipping tokenizers/punkt.zip.\n"
          ]
        },
        {
          "output_type": "execute_result",
          "data": {
            "text/plain": [
              "True"
            ]
          },
          "metadata": {},
          "execution_count": 28
        }
      ]
    },
    {
      "cell_type": "markdown",
      "source": [
        "## 시기에 맞는 keyword return"
      ],
      "metadata": {
        "id": "mI3QUwCPWc15"
      }
    },
    {
      "cell_type": "code",
      "source": [
        "import pandas as pd\n",
        "from datetime import datetime\n",
        "\n",
        "# 데이터셋을 데이터프레임으로 정의\n",
        "data = {\n",
        "    \"date\": [\"2022.07.08\", \"2022.08.27\", \"2023.01.21\", \"2023.01.28\", \"2023.05.21\",\n",
        "             \"2023.06.21\", \"2023.07.23\", \"2023.08.09\", \"2024.01.16\", \"2024.07.21\"],\n",
        "    \"group\": [\"NewJeans\"] * 10,\n",
        "    \"title\": [\"민지 티셔츠 문구 선정성 논란\", \"Cookie 가사 논란\", \"다니엘 중국 설 표기 논란\",\n",
        "              \"한지 관련 중국 네티즌 악플 테러\", \"멕시코 걸그룹 '진스' 표절 의혹\",\n",
        "              \"X 배틀그라운드 콜라보 관련 논란\", \"Bubble Gum 표절 논란\",\n",
        "              \"음악방송 중 아이폰 퍼포먼스 논란\", \"민지  칼국수 발언 관련 논란\",\n",
        "              \"뉴진스도 모르는 생일카페 광주광역시 동구청\"],\n",
        "    \"url\": [\"https://news.mt.co.kr/mtview.php?no=2022072810214588016\",\n",
        "            \"https://www.mbn.co.kr/news/society/4831628\",\n",
        "            \"https://www.etoday.co.kr/news/view/2215018\",\n",
        "            \"https://idsn.co.kr/news/view/1065598944642006\",\n",
        "            \"https://www.insight.co.kr/news/469214\",\n",
        "            \"https://www.ekoreanews.co.kr/news/articleView.html?idxno=74032\",\n",
        "            \"https://mksports.co.kr/view/2024/541018\",\n",
        "            \"https://www.hankyung.com/society/article/2023080969067\",\n",
        "            \"https://www.joongang.co.kr/article/25222428\",\n",
        "            \"https://view.asiae.co.kr/article/2024072116494121787\"]\n",
        "}\n",
        "\n",
        "df = pd.DataFrame(data)\n",
        "\n",
        "# 날짜 차이를 계산하는 함수\n",
        "def calculate_date_diff(row, query_date):\n",
        "    event_date = datetime.strptime(row['date'], \"%Y.%m.%d\")\n",
        "    return abs((query_date - event_date).days)\n",
        "\n",
        "# 가장 가까운 사건 k개를 리턴하는 함수\n",
        "def find_closest_events(group, query_date, k):\n",
        "    # 입력된 날짜 변환\n",
        "    query_date = datetime.strptime(query_date, \"%Y-%m-%d\")\n",
        "\n",
        "    # 특정 그룹의 사건에 대해 날짜 차이를 계산하여 새로운 열에 추가\n",
        "    df_filtered = df[df['group'] == group].copy()\n",
        "    df_filtered['date_diff'] = df_filtered.apply(lambda row: calculate_date_diff(row, query_date), axis=1)\n",
        "\n",
        "    # 날짜 차이가 적은 순으로 정렬 후 상위 k개 선택\n",
        "    df_sorted = df_filtered.sort_values('date_diff').head(k)\n",
        "\n",
        "    # 필요한 정보만 반환\n",
        "    return df_sorted[['title', 'url']]"
      ],
      "metadata": {
        "id": "UmQvOmzcpiSQ"
      },
      "execution_count": 29,
      "outputs": []
    },
    {
      "cell_type": "code",
      "source": [
        "# 예시 질문\n",
        "question_date = \"2023-01-25\"\n",
        "group = \"NewJeans\"\n",
        "k=3\n",
        "\n",
        "# 가장 가까운 사건 찾기\n",
        "closest_events = find_closest_events(group, question_date, k)\n"
      ],
      "metadata": {
        "colab": {
          "base_uri": "https://localhost:8080/"
        },
        "id": "6Ld5cd0SoUPW",
        "outputId": "540e329e-d4fb-4a72-a3d7-19dd0f505286"
      },
      "execution_count": 30,
      "outputs": [
        {
          "output_type": "execute_result",
          "data": {
            "text/plain": [
              "['https://idsn.co.kr/news/view/1065598944642006',\n",
              " 'https://www.etoday.co.kr/news/view/2215018',\n",
              " 'https://www.insight.co.kr/news/469214']"
            ]
          },
          "metadata": {},
          "execution_count": 30
        }
      ]
    },
    {
      "cell_type": "markdown",
      "source": [
        "## 잘 맞는 아티클 찾아서 url 리턴"
      ],
      "metadata": {
        "id": "U72z8gKflPj2"
      }
    },
    {
      "cell_type": "markdown",
      "source": [
        "URL 로 받아 온 아티클의 내용 요약하기"
      ],
      "metadata": {
        "id": "AHBblDs7lNjI"
      }
    },
    {
      "cell_type": "code",
      "source": [
        "def extract_content_from_urls(urls):\n",
        "\n",
        "  loader = UnstructuredURLLoader(urls=urls)\n",
        "  data = loader.load()\n",
        "\n",
        "  text_splitter = CharacterTextSplitter(\n",
        "      separator='\\n',\n",
        "      chunk_size=1000,\n",
        "      chunk_overlap=200,\n",
        "      length_function=len\n",
        "  )\n",
        "\n",
        "  docs = text_splitter.split_documents(data)\n",
        "  db = FAISS.from_documents(docs, embeddings)\n",
        "\n",
        "  return db"
      ],
      "metadata": {
        "id": "25aQFlavWbtY"
      },
      "execution_count": 31,
      "outputs": []
    },
    {
      "cell_type": "markdown",
      "source": [
        "요약 진행하기"
      ],
      "metadata": {
        "id": "UvCL87ZlmdWN"
      }
    },
    {
      "cell_type": "code",
      "source": [
        "def summarizer(db, query, articles, k=3):\n",
        "    # 유사도 검색을 통해 문서 가져오기\n",
        "    docs = db.similarity_search(query, k=k)\n",
        "\n",
        "    llm = ChatOpenAI(model=\"gpt-4o\", temperature=0.5)\n",
        "    template = \"\"\"\n",
        "    {docs}\n",
        "\n",
        "    이 요약문은 분석용 보고서에 첨부될 거야. 잘 작성된 보고서가 되기 위해 아래의 양식을 지켜야 해.\n",
        "\n",
        "    가이드라인에 맞춰서 적어줘.\n",
        "\n",
        "    1. 콘텐츠로부터 정보를 얻을 수 있고 유용해야 해.\n",
        "    2. 콘텐츠가 너무 짧거나 길지 않고 144자로 제한해야 해.\n",
        "    3. 콘텐츠는 일반적인 내용이 아닌, \"{query}\" 토픽을 잘 나타내고 있는 내용이어야 해.\n",
        "    4. 콘텐츠는 읽기 쉽게 쓰여야 하고, 간결해야 해.\n",
        "    5. 콘텐츠는 독자에게 영감을 줄 수 있어야 해.\n",
        "\n",
        "    읽기 편하게 한국어로 작성해 줘. 답변에 가이드라인의 내용을 포함되지 않도록 할 것.\n",
        "\n",
        "    SUMMARY :\n",
        "    \"\"\"\n",
        "\n",
        "    prompt_template = PromptTemplate(input_variables=[\"docs\", \"query\"], template=template)\n",
        "\n",
        "    # 기사별 요약과 메타데이터를 포함한 출력\n",
        "    summaries = []\n",
        "    for doc in docs:\n",
        "        summarize_chain = prompt_template | llm\n",
        "        response = summarize_chain.invoke({\"docs\": doc.page_content, \"query\": query})\n",
        "        summary = response.content.replace(\"\\n\", \"\")\n",
        "\n",
        "        # 검색된 문서와 원본 기사 매칭 (문서 내용이 해당 URL을 포함하는지 확인)\n",
        "        for article in articles:\n",
        "            if article['title'] in doc.page_content or article['url'] in doc.page_content:\n",
        "                title = article['title']\n",
        "                url = article['url']\n",
        "                formatted_output = f\"[{title}]\\n{url}\\n{summary}\"\n",
        "                summaries.append(formatted_output)\n",
        "\n",
        "    # 각 요약을 합쳐 최종 결과로 반환\n",
        "    return \"\\n\\n\".join(summaries)"
      ],
      "metadata": {
        "id": "4TQICP5tWtEn"
      },
      "execution_count": 81,
      "outputs": []
    },
    {
      "cell_type": "code",
      "source": [
        "def create_query(group, date):\n",
        "\n",
        "    # 문자열을 datetime 객체로 변환\n",
        "    date_obj = datetime.strptime(date, '%Y-%m-%d')\n",
        "\n",
        "    # 연도와 월 추출\n",
        "    year = date_obj.year\n",
        "    month = date_obj.month\n",
        "\n",
        "    return f'{year}년 {month}월 {group}'"
      ],
      "metadata": {
        "id": "7-xaFWzunFhL"
      },
      "execution_count": 33,
      "outputs": []
    },
    {
      "cell_type": "code",
      "source": [
        "def get_chatbot_response(group, date):\n",
        "    \"\"\"\n",
        "    Generate a response from the Gemini chatbot based on the selected data point.\n",
        "    \"\"\"\n",
        "    try:\n",
        "        #query = create_query(group, date)\n",
        "        query = create_query(group, question_date)\n",
        "        closest_event = find_closest_events(group, question_date, k)\n",
        "        urls = closest_event['url'].to_list()\n",
        "        data = extract_content_from_urls(urls)\n",
        "        summaries = summarizer(db=data, query=query)\n",
        "\n",
        "        return urls, summaries\n",
        "\n",
        "    except Exception as e:\n",
        "        print(f\"An error occurred while generating the response: {str(e)}\")\n",
        "        return [], \"\""
      ],
      "metadata": {
        "id": "Q_dzBTlkZC8P"
      },
      "execution_count": 49,
      "outputs": []
    },
    {
      "cell_type": "code",
      "source": [
        "# 예시 질문\n",
        "group = \"NewJeans\"\n",
        "question_date = \"2023-01-25\"\n",
        "k=3\n",
        "\n",
        "# 질문 생성\n",
        "query = create_query(group, question_date)\n",
        "\n",
        "# 가장 가까운 사건과 기사 찾기\n",
        "closest_events = find_closest_events(group, question_date, k)\n",
        "articles=closest_events.to_dict('records')\n",
        "urls = closest_events['url'].to_list()\n",
        "\n",
        "# 기사 내용을 추출한 뒤 요약\n",
        "data = extract_content_from_urls(urls)\n",
        "summaries = summarizer(db=data, query=query, articles=articles)\n"
      ],
      "metadata": {
        "id": "4ej5M6pTq7dX"
      },
      "execution_count": 64,
      "outputs": []
    },
    {
      "cell_type": "markdown",
      "source": [
        "## test"
      ],
      "metadata": {
        "id": "_aTrxvt18GKl"
      }
    },
    {
      "cell_type": "code",
      "source": [
        "summaries = summarizer(db=data, query=query, articles=articles)\n",
        "summaries"
      ],
      "metadata": {
        "colab": {
          "base_uri": "https://localhost:8080/",
          "height": 54
        },
        "id": "GMWDqcRw4_Rd",
        "outputId": "4c709fd7-8951-4da6-b035-2d8c31643d82"
      },
      "execution_count": 82,
      "outputs": [
        {
          "output_type": "execute_result",
          "data": {
            "text/plain": [
              "\"[멕시코 걸그룹 '진스' 표절 의혹]\\nhttps://www.insight.co.kr/news/469214\\n뉴진스가 멕시코 걸그룹 진스의 90년대 스타일을 표절했다는 의혹이 제기되었다. 두 그룹은 비주얼 콘셉트와 안무, 홍보 방식에서 유사점을 보이며, 이름에서도 '진스'라는 공통점을 가지고 있다. 이러한 논란은 뉴진스의 독창성을 주장하는 입장과 상반되며, 최근 하이브와의 갈등 속에서 더욱 주목받고 있다.\""
            ],
            "application/vnd.google.colaboratory.intrinsic+json": {
              "type": "string"
            }
          },
          "metadata": {},
          "execution_count": 82
        }
      ]
    },
    {
      "cell_type": "code",
      "source": [
        "def extract_and_summarize_from_urls(urls, query, articles, k=3):\n",
        "    # URL에서 텍스트 로딩 및 문서 분할\n",
        "    loader = UnstructuredURLLoader(urls=urls)\n",
        "    data = loader.load()\n",
        "\n",
        "    text_splitter = CharacterTextSplitter(\n",
        "        separator='\\n',\n",
        "        chunk_size=1000,\n",
        "        chunk_overlap=200,\n",
        "        length_function=len\n",
        "    )\n",
        "\n",
        "    docs = text_splitter.split_documents(data)\n",
        "\n",
        "    # FAISS에 임베딩된 문서 저장\n",
        "    db = FAISS.from_documents(docs, embeddings)\n",
        "\n",
        "    # LLM 준비\n",
        "    llm = ChatOpenAI(model=\"gpt-4o\", temperature=0.5)\n",
        "    template = \"\"\"\n",
        "    {docs}\n",
        "\n",
        "    이 요약문은 분석용 보고서에 첨부될 거야. 잘 작성된 보고서가 되기 위해 아래의 양식을 지켜야 해.\n",
        "\n",
        "    가이드라인에 맞춰서 적어줘.\n",
        "\n",
        "    1. 콘텐츠로부터 정보를 얻을 수 있고 유용해야 해.\n",
        "    2. 콘텐츠가 너무 짧거나 길지 않고 144자로 제한해야 해.\n",
        "    3. 콘텐츠는 일반적인 내용이 아닌, \"{query}\" 토픽을 잘 나타내고 있는 내용이어야 해.\n",
        "    4. 콘텐츠는 읽기 쉽게 쓰여야 하고, 간결해야 해.\n",
        "    5. 콘텐츠는 독자에게 영감을 줄 수 있어야 해.\n",
        "\n",
        "    읽기 편하게 한국어로 작성해 줘. 답변에 가이드라인의 내용을 포함되지 않도록 할 것.\n",
        "\n",
        "    SUMMARY :\n",
        "    \"\"\"\n",
        "\n",
        "    prompt_template = PromptTemplate(input_variables=[\"docs\", \"query\"], template=template)\n",
        "\n",
        "    # 각 기사별로 따로 요약 생성\n",
        "    summaries = []\n",
        "    for article in articles:\n",
        "        article_content = None\n",
        "        for doc in docs:\n",
        "            if article['title'] in doc.page_content or article['url'] in doc.page_content:\n",
        "                article_content = doc.page_content\n",
        "                break  # 해당 기사와 일치하는 문서가 있으면 중단\n",
        "\n",
        "        if article_content:\n",
        "            summarize_chain = prompt_template | llm\n",
        "            response = summarize_chain.invoke({\"docs\": article_content, \"query\": query})\n",
        "            summary = response.content.replace(\"\\n\", \"\")\n",
        "            title = article['title']\n",
        "            url = article['url']\n",
        "            formatted_output = f\"[{title}]\\n{url}\\n{summary}\"\n",
        "            summaries.append(formatted_output)\n",
        "\n",
        "    # 각 요약을 합쳐 최종 결과로 반환\n",
        "    return \"\\n\\n\".join(summaries)\n",
        "\n",
        "def create_query(group, date):\n",
        "    # 문자열을 datetime 객체로 변환\n",
        "    date_obj = datetime.strptime(date, '%Y-%m-%d')\n",
        "\n",
        "    # 연도와 월 추출\n",
        "    year = date_obj.year\n",
        "    month = date_obj.month\n",
        "\n",
        "    return f'{year}년 {month}월 {group}'"
      ],
      "metadata": {
        "id": "QqYZKYTt6oU3"
      },
      "execution_count": 84,
      "outputs": []
    },
    {
      "cell_type": "code",
      "source": [
        "# 예시 질문\n",
        "group = \"NewJeans\"\n",
        "question_date = \"2023-01-25\"\n",
        "k = 3\n",
        "\n",
        "# 질문 생성\n",
        "query = create_query(group, question_date)\n",
        "\n",
        "# 가장 가까운 사건과 기사 찾기\n",
        "closest_events = find_closest_events(group, question_date, k)\n",
        "articles = closest_events.to_dict('records')\n",
        "urls = closest_events['url'].to_list()\n",
        "\n",
        "# 기사 내용 추출 및 요약\n",
        "summaries = extract_and_summarize_from_urls(urls, query, articles, k)\n",
        "\n",
        "print(summaries)\n"
      ],
      "metadata": {
        "colab": {
          "base_uri": "https://localhost:8080/"
        },
        "id": "zg0SLE5h8J-j",
        "outputId": "0435abf7-98b7-416c-ccf0-81cf0050d114"
      },
      "execution_count": 85,
      "outputs": [
        {
          "output_type": "stream",
          "name": "stdout",
          "text": [
            "[한지 관련 중국 네티즌 악플 테러]\n",
            "https://idsn.co.kr/news/view/1065598944642006\n",
            "2023년 1월, NewJeans는 중국에서의 활동과 관련된 논란에 직면했습니다. 멤버들은 악플과 동북공정 논란으로 어려움을 겪었지만, 팬들의 지지로 이를 극복하고 있습니다.\n",
            "\n",
            "[멕시코 걸그룹 '진스' 표절 의혹]\n",
            "https://www.insight.co.kr/news/469214\n",
            "뉴진스가 90년대 멕시코 걸그룹 진스를 표절했다는 의혹이 제기됐다. 유사한 의상과 콘셉트, 이름 등이 논란의 중심에 있다.\n"
          ]
        }
      ]
    },
    {
      "cell_type": "code",
      "source": [],
      "metadata": {
        "id": "coFEozrL8aak"
      },
      "execution_count": null,
      "outputs": []
    }
  ]
}