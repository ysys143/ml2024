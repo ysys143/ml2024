{
  "nbformat": 4,
  "nbformat_minor": 0,
  "metadata": {
    "colab": {
      "private_outputs": true,
      "provenance": [],
      "authorship_tag": "ABX9TyOkDRnBii1j5ApmzDZMrHlZ",
      "include_colab_link": true
    },
    "kernelspec": {
      "name": "python3",
      "display_name": "Python 3"
    },
    "language_info": {
      "name": "python"
    }
  },
  "cells": [
    {
      "cell_type": "markdown",
      "metadata": {
        "id": "view-in-github",
        "colab_type": "text"
      },
      "source": [
        "<a href=\"https://colab.research.google.com/github/ysys143/ml2024/blob/main/Untitled0.ipynb\" target=\"_parent\"><img src=\"https://colab.research.google.com/assets/colab-badge.svg\" alt=\"Open In Colab\"/></a>"
      ]
    },
    {
      "cell_type": "code",
      "execution_count": null,
      "metadata": {
        "id": "OT__Y6-TrYoE"
      },
      "outputs": [],
      "source": [
        "!git clone https://github.com/ysys143/ml2024.git\n"
      ]
    },
    {
      "cell_type": "code",
      "source": [
        "%cd ml2024\n"
      ],
      "metadata": {
        "id": "ZeRzFp2Wrsbd"
      },
      "execution_count": null,
      "outputs": []
    }
  ]
}